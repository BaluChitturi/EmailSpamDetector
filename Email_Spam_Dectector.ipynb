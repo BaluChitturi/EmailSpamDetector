{
 "cells": [
  {
   "cell_type": "markdown",
   "id": "5ded3c15-0707-4bd0-9978-1e3bd9f15d12",
   "metadata": {},
   "source": [
    "# Importing Necessary modules"
   ]
  },
  {
   "cell_type": "code",
   "execution_count": 1,
   "id": "ee47fecc-c691-4e02-b467-746e37863389",
   "metadata": {},
   "outputs": [],
   "source": [
    "import pandas as pd\n",
    "import numpy as np\n",
    "import re\n",
    "import nltk\n",
    "from nltk.corpus import stopwords\n",
    "from nltk.stem import WordNetLemmatizer\n",
    "from nltk.tokenize import word_tokenize\n",
    "from sklearn.feature_extraction.text import CountVectorizer, TfidfVectorizer\n",
    "from sklearn.naive_bayes import MultinomialNB\n",
    "from sklearn.svm import SVC\n",
    "from sklearn.model_selection import train_test_split\n",
    "from sklearn.metrics import accuracy_score, confusion_matrix, classification_report\n",
    "import seaborn as sns\n",
    "import matplotlib.pyplot as plt\n"
   ]
  },
  {
   "cell_type": "markdown",
   "id": "39655ec6-78a9-4925-9f6f-84d213de1b5d",
   "metadata": {},
   "source": [
    "# Download NLTK resources"
   ]
  },
  {
   "cell_type": "code",
   "execution_count": 2,
   "id": "9db1336a-9462-4d14-995e-c6b4f08bb5dd",
   "metadata": {},
   "outputs": [
    {
     "name": "stdout",
     "output_type": "stream",
     "text": [
      "<class 'pandas.core.frame.DataFrame'>\n",
      "RangeIndex: 5572 entries, 0 to 5571\n",
      "Data columns (total 5 columns):\n",
      " #   Column      Non-Null Count  Dtype \n",
      "---  ------      --------------  ----- \n",
      " 0   label       5572 non-null   object\n",
      " 1   text        5572 non-null   object\n",
      " 2   Unnamed: 2  50 non-null     object\n",
      " 3   Unnamed: 3  12 non-null     object\n",
      " 4   Unnamed: 4  6 non-null      object\n",
      "dtypes: object(5)\n",
      "memory usage: 217.8+ KB\n",
      "\n",
      "\n",
      "   label                                               text Unnamed: 2  \\\n",
      "0   ham  Go until jurong point, crazy.. Available only ...        NaN   \n",
      "1   ham                      Ok lar... Joking wif u oni...        NaN   \n",
      "2  spam  Free entry in 2 a wkly comp to win FA Cup fina...        NaN   \n",
      "3   ham  U dun say so early hor... U c already then say...        NaN   \n",
      "4   ham  Nah I don't think he goes to usf, he lives aro...        NaN   \n",
      "\n",
      "  Unnamed: 3 Unnamed: 4  \n",
      "0        NaN        NaN  \n",
      "1        NaN        NaN  \n",
      "2        NaN        NaN  \n",
      "3        NaN        NaN  \n",
      "4        NaN        NaN  \n"
     ]
    },
    {
     "name": "stderr",
     "output_type": "stream",
     "text": [
      "[nltk_data] Downloading package stopwords to C:\\Users\\Balu\n",
      "[nltk_data]     Chitturi\\AppData\\Roaming\\nltk_data...\n",
      "[nltk_data]   Package stopwords is already up-to-date!\n",
      "[nltk_data] Downloading package wordnet to C:\\Users\\Balu\n",
      "[nltk_data]     Chitturi\\AppData\\Roaming\\nltk_data...\n",
      "[nltk_data]   Package wordnet is already up-to-date!\n"
     ]
    }
   ],
   "source": [
    "nltk.download('stopwords')\n",
    "nltk.download('wordnet')\n",
    "# Load the dataset\n",
    "data = pd.read_csv('D:\\\\spam.csv', encoding='latin1')\n",
    "data.info()\n",
    "print(\"\\n\\n\",data.head())"
   ]
  },
  {
   "cell_type": "markdown",
   "id": "5d844cfd-d5ba-4b4a-9f6d-dc804218a408",
   "metadata": {},
   "source": [
    "# Drop rows with missing values"
   ]
  },
  {
   "cell_type": "code",
   "execution_count": 3,
   "id": "efe6e6ad-f459-44bf-8314-237d11858e9a",
   "metadata": {},
   "outputs": [
    {
     "name": "stdout",
     "output_type": "stream",
     "text": [
      "     label                                               text  \\\n",
      "281    ham                                \\Wen u miss someone   \n",
      "1038   ham  Edison has rightly said, \\A fool can ask more ...   \n",
      "2255   ham      I just lov this line: \\Hurt me with the truth   \n",
      "3525   ham  \\HEY BABE! FAR 2 SPUN-OUT 2 SPK AT DA MO... DE...   \n",
      "4668   ham  When I was born, GOD said, \\Oh No! Another IDI...   \n",
      "5048   ham  Edison has rightly said, \\A fool can ask more ...   \n",
      "\n",
      "                                             Unnamed: 2  \\\n",
      "281    the person is definitely special for u..... B...   \n",
      "1038                                                 GN   \n",
      "2255                                       I don't mind   \n",
      "3525                                   HAD A COOL NYTHO   \n",
      "4668                                           GOD said   \n",
      "5048                                                 GN   \n",
      "\n",
      "                                    Unnamed: 3  \\\n",
      "281                           why to miss them   \n",
      "1038                                        GE   \n",
      "2255  i wil tolerat.bcs ur my someone..... But   \n",
      "3525                            TX 4 FONIN HON   \n",
      "4668          \\\"OH No! COMPETITION\\\". Who knew   \n",
      "5048                                        GE   \n",
      "\n",
      "                                             Unnamed: 4  \n",
      "281                       just Keep-in-touch\\\" gdeve..\"  \n",
      "1038                                            GNT:-)\"  \n",
      "2255   Never comfort me with a lie\\\" gud ni8 and swe...  \n",
      "3525                CALL 2MWEN IM BK FRMCLOUD 9! J X\\\"\"  \n",
      "4668    one day these two will become FREINDS FOREVER!\"  \n",
      "5048                                            GNT:-)\"  \n"
     ]
    }
   ],
   "source": [
    "data = data.dropna()\n",
    "\n",
    "# Or impute missing values\n",
    "data = data.fillna(value='unknown')\n",
    "print(data)\n"
   ]
  },
  {
   "cell_type": "markdown",
   "id": "6776dfc9-1dea-4734-8544-238ca829f09f",
   "metadata": {},
   "source": [
    "# Preprocessing\n",
    "# Remove special characters and digits"
   ]
  },
  {
   "cell_type": "code",
   "execution_count": 4,
   "id": "2d1ee2f0-1528-41c5-885e-6ac337928ad0",
   "metadata": {},
   "outputs": [],
   "source": [
    "\n",
    "data['text'] = data['text'].str.replace(r'\\W|\\d', ' ')\n",
    "\n",
    "# Convert to lowercase\n",
    "data['text'] = data['text'].str.lower()\n",
    "\n",
    "# Initialize stop_words\n",
    "stop_words = set(stopwords.words('english'))"
   ]
  },
  {
   "cell_type": "markdown",
   "id": "814b0912-3396-44ce-b431-a36f5bb0621a",
   "metadata": {},
   "source": [
    "# Lemmatization using WordNetLemmatizer"
   ]
  },
  {
   "cell_type": "code",
   "execution_count": 5,
   "id": "70f97695-2ce5-4235-8067-7d9ba5609b2c",
   "metadata": {},
   "outputs": [],
   "source": [
    "\n",
    "lemmatizer = WordNetLemmatizer()\n",
    "data['text'] = data['text'].apply(lambda x: [lemmatizer.lemmatize(word) for word in word_tokenize(x) if word not in stop_words])\n"
   ]
  },
  {
   "cell_type": "markdown",
   "id": "05152c4b-9bc6-475c-abe8-90ce16addcd4",
   "metadata": {},
   "source": [
    "# Check if the document is not empty before joining"
   ]
  },
  {
   "cell_type": "code",
   "execution_count": 6,
   "id": "924e5478-3774-4820-adc1-9dc3d0ce317d",
   "metadata": {},
   "outputs": [],
   "source": [
    "data['text'] = data['text'].apply(lambda x: ' '.join(x) if x else '')"
   ]
  },
  {
   "cell_type": "markdown",
   "id": "859747f2-a127-480e-9baf-5f1a4ea7f5a1",
   "metadata": {},
   "source": [
    "# Feature Engineering"
   ]
  },
  {
   "cell_type": "code",
   "execution_count": 7,
   "id": "f6ae780e-c0a7-429c-9a1d-2b3fb0aed49e",
   "metadata": {},
   "outputs": [],
   "source": [
    "data['length'] = data['text'].apply(len)  # Length of the email\n",
    "data['num_digits'] = data['text'].apply(lambda x: sum(c.isdigit() for c in x))  # Number of digits in the email\n",
    "data['num_words'] = data['text'].apply(lambda x: len(x.split()))  # Number of words in the email\n",
    "data['contains_offer'] = data['text'].apply(lambda x: 1 if 'offer' in x else 0)  # Presence of the keyword 'offer'"
   ]
  },
  {
   "cell_type": "markdown",
   "id": "d196024b-ee1f-4b09-b82d-ebcdadde234c",
   "metadata": {},
   "source": [
    "# Vectorization"
   ]
  },
  {
   "cell_type": "code",
   "execution_count": 9,
   "id": "f863d760-1789-453e-be4e-427e3a72989f",
   "metadata": {},
   "outputs": [],
   "source": [
    "vectorizer = CountVectorizer(max_features=5000)\n",
    "X_count = vectorizer.fit_transform(data['text'])\n",
    "\n",
    "tfidf_vectorizer = TfidfVectorizer(max_features=5000)\n",
    "X_tfidf = tfidf_vectorizer.fit_transform(data['text'])\n"
   ]
  },
  {
   "cell_type": "markdown",
   "id": "3892afae-c742-4bbd-80b2-b662ae806e64",
   "metadata": {},
   "source": [
    "# Combine features"
   ]
  },
  {
   "cell_type": "code",
   "execution_count": 10,
   "id": "6ffb8ab3-fd22-4541-ac79-764989d1741d",
   "metadata": {},
   "outputs": [],
   "source": [
    "X_features = np.hstack([X_count.toarray(), X_tfidf.toarray(), data[['length', 'num_digits', 'num_words', 'contains_offer']].values])\n",
    "\n",
    "y = data['label']\n",
    "\n",
    "# Split the dataset into training and testing sets\n",
    "X_train, X_test, y_train, y_test = train_test_split(X_features, y, test_size=0.2, random_state=42)\n",
    "\n",
    "# Train the models\n",
    "models = {\n",
    "    'Naive Bayes': MultinomialNB(),\n",
    "    'SVM': SVC(kernel='linear', probability=True)\n",
    "}\n",
    "\n"
   ]
  },
  {
   "cell_type": "markdown",
   "id": "81f5bf62-8409-4150-8c5a-564a5c551873",
   "metadata": {},
   "source": [
    "# Final Model for Spam Detection using Confusion and Navie's Bayes Multimodel "
   ]
  },
  {
   "cell_type": "code",
   "execution_count": 2,
   "id": "f491f00e-7c13-4ff3-a787-c20a4c3837a1",
   "metadata": {},
   "outputs": [
    {
     "name": "stderr",
     "output_type": "stream",
     "text": [
      "[nltk_data] Downloading package stopwords to C:\\Users\\Balu\n",
      "[nltk_data]     Chitturi\\AppData\\Roaming\\nltk_data...\n",
      "[nltk_data]   Package stopwords is already up-to-date!\n",
      "[nltk_data] Downloading package wordnet to C:\\Users\\Balu\n",
      "[nltk_data]     Chitturi\\AppData\\Roaming\\nltk_data...\n",
      "[nltk_data]   Package wordnet is already up-to-date!\n",
      "[nltk_data] Downloading package punkt to C:\\Users\\Balu\n",
      "[nltk_data]     Chitturi\\AppData\\Roaming\\nltk_data...\n",
      "[nltk_data]   Package punkt is already up-to-date!\n"
     ]
    },
    {
     "name": "stdout",
     "output_type": "stream",
     "text": [
      "Model: Naive Bayes\n",
      "Accuracy: 0.9838565022421525\n",
      "Confusion Matrix:\n",
      "[[958   7]\n",
      " [ 11 139]]\n",
      "Classification Report:\n",
      "              precision    recall  f1-score   support\n",
      "\n",
      "         ham       0.99      0.99      0.99       965\n",
      "        spam       0.95      0.93      0.94       150\n",
      "\n",
      "    accuracy                           0.98      1115\n",
      "   macro avg       0.97      0.96      0.96      1115\n",
      "weighted avg       0.98      0.98      0.98      1115\n",
      "\n",
      "\n",
      "\n",
      "Model: SVM\n",
      "Accuracy: 0.979372197309417\n",
      "Confusion Matrix:\n",
      "[[961   4]\n",
      " [ 19 131]]\n",
      "Classification Report:\n",
      "              precision    recall  f1-score   support\n",
      "\n",
      "         ham       0.98      1.00      0.99       965\n",
      "        spam       0.97      0.87      0.92       150\n",
      "\n",
      "    accuracy                           0.98      1115\n",
      "   macro avg       0.98      0.93      0.95      1115\n",
      "weighted avg       0.98      0.98      0.98      1115\n",
      "\n",
      "\n",
      "\n"
     ]
    },
    {
     "data": {
      "image/png": "[encoded data removed]",
      "text/plain": [
       "<Figure size 1200x600 with 2 Axes>"
      ]
     },
     "metadata": {},
     "output_type": "display_data"
    },
    {
     "name": "stdout",
     "output_type": "stream",
     "text": [
      "Model: Naive Bayes - Prediction: Not Spam\n",
      "Model: SVM - Prediction: Not Spam\n"
     ]
    }
   ],
   "source": [
    "import joblib\n",
    "import pandas as pd\n",
    "import numpy as np\n",
    "import matplotlib.pyplot as plt\n",
    "import seaborn as sns\n",
    "from sklearn.feature_extraction.text import CountVectorizer\n",
    "from sklearn.naive_bayes import MultinomialNB\n",
    "from sklearn.svm import SVC\n",
    "from sklearn.model_selection import train_test_split\n",
    "from sklearn.metrics import accuracy_score, confusion_matrix, classification_report\n",
    "import re\n",
    "import nltk\n",
    "from nltk.corpus import stopwords\n",
    "from nltk.stem import WordNetLemmatizer\n",
    "from nltk.tokenize import word_tokenize\n",
    "from sklearn.naive_bayes import MultinomialNB\n",
    "from sklearn.svm import SVC\n",
    "\n",
    "# Download NLTK resources\n",
    "nltk.download('stopwords')\n",
    "nltk.download('wordnet')\n",
    "nltk.download('punkt')\n",
    "\n",
    "# Load the dataset\n",
    "data = pd.read_csv('D:\\\\spam.csv', encoding='latin1')\n",
    "\n",
    "# Preprocessing\n",
    "# Remove special characters and digits\n",
    "data['text'] = data['text'].str.replace(r'\\W|\\d', ' ')\n",
    "\n",
    "# Convert to lowercase\n",
    "data['text'] = data['text'].str.lower()\n",
    "\n",
    "# Initialize stop_words\n",
    "stop_words = set(stopwords.words('english'))\n",
    "\n",
    "# Lemmatization using WordNetLemmatizer\n",
    "lemmatizer = WordNetLemmatizer()\n",
    "data['text'] = data['text'].apply(lambda x: ' '.join([lemmatizer.lemmatize(word) for word in x.split() if word not in stop_words]))\n",
    "\n",
    "# Vectorization\n",
    "vectorizer = CountVectorizer(max_features=5000)\n",
    "X = vectorizer.fit_transform(data['text'])\n",
    "y = data['label']\n",
    "\n",
    "# Split the dataset into training and testing sets\n",
    "X_train, X_test, y_train, y_test = train_test_split(X, y, test_size=0.2, random_state=42)\n",
    "\n",
    "\n",
    "#@ Test \n",
    "# Train the models\n",
    "models = {\n",
    "    'Naive Bayes': MultinomialNB(),\n",
    "    'SVM': SVC(kernel='linear', probability=True)\n",
    "}\n",
    "\n",
    "results = {}\n",
    "\n",
    "for name, model in models.items():\n",
    "    model.fit(X_train, y_train)\n",
    "    y_pred = model.predict(X_test)\n",
    "    accuracy = accuracy_score(y_test, y_pred)\n",
    "    results[name] = {'Accuracy': accuracy, 'Confusion Matrix': confusion_matrix(y_test, y_pred)}\n",
    "\n",
    "    print(f'Model: {name}')\n",
    "    print(f'Accuracy: {accuracy}')\n",
    "    print(f'Confusion Matrix:\\n{confusion_matrix(y_test, y_pred)}')\n",
    "    print(f'Classification Report:\\n{classification_report(y_test, y_pred)}')\n",
    "    print('\\n')\n",
    "\n",
    "# Save the trained models using joblib\n",
    "for name, model in models.items():\n",
    "    # Replace 'path_to_model_' with the actual path where you want to save your trained models\n",
    "    model_filename = f'D:\\{name}.joblib'\n",
    "    joblib.dump(model, model_filename)\n",
    "\n",
    "# Visualize Confusion Matrix Heatmap\n",
    "plt.figure(figsize=(12, 6))\n",
    "for i, (name, result) in enumerate(results.items(), 1):\n",
    "    plt.subplot(1, 2, i)\n",
    "    sns.heatmap(result['Confusion Matrix'], annot=True, fmt='g', cmap='Blues', cbar=False,\n",
    "                xticklabels=['Not Spam', 'Spam'], yticklabels=['Not Spam', 'Spam'])\n",
    "    plt.title(f'Confusion Matrix - {name}\\nAccuracy: {result[\"Accuracy\"]:.2f}')\n",
    "    plt.xlabel('Predicted')\n",
    "    plt.ylabel('Actual')\n",
    "    plt.tight_layout()\n",
    "\n",
    "plt.show()\n",
    "\n",
    "# Test the models on a new email\n",
    "new_email = \"Buy one get one free! Hurry!\"\n",
    "\n",
    "# Preprocessing\n",
    "new_email = re.sub(r'\\W|\\d', ' ', new_email)\n",
    "new_email = new_email.lower()\n",
    "new_email_tokens = word_tokenize(new_email)\n",
    "new_email_tokens = [lemmatizer.lemmatize(word) for word in new_email_tokens if word not in stop_words]\n",
    "new_email = ' '.join(new_email_tokens)\n",
    "\n",
    "# Use the same CountVectorizer for the new email as used during training\n",
    "new_email_count_vector = vectorizer.transform([new_email])\n",
    "\n",
    "# Concatenate the features\n",
    "new_email_features = new_email_count_vector.toarray()\n",
    "\n",
    "# Predict\n",
    "for name, model in models.items():\n",
    "    probability = model.predict_proba(new_email_features.reshape(1, -1))\n",
    "    if probability[0][1] > 0.5:\n",
    "        print(f'Model: {name} - Prediction: Spam')\n",
    "    else:\n",
    "        print(f'Model: {name} - Prediction: Not Spam')\n"
   ]
  }
 ],
 "metadata": {
  "kernelspec": {
   "display_name": "Python 3 (ipykernel)",
   "language": "python",
   "name": "python3"
  },
  "language_info": {
   "codemirror_mode": {
    "name": "ipython",
    "version": 3
   },
   "file_extension": ".py",
   "mimetype": "text/x-python",
   "name": "python",
   "nbconvert_exporter": "python",
   "pygments_lexer": "ipython3",
   "version": "3.11.4"
  }
 },
 "nbformat": 4,
 "nbformat_minor": 5
}
